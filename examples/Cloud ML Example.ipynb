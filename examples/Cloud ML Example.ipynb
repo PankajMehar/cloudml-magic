{
 "cells": [
  {
   "cell_type": "markdown",
   "metadata": {},
   "source": [
    "# cloudmlmagic Example\n",
    "Example notebook to use cloudmlmagic.\n",
    "Before you begin, install cloudmlmagic.\n",
    "```\n",
    "$ pip install cloudmlmagic\n",
    "```"
   ]
  },
  {
   "cell_type": "code",
   "execution_count": null,
   "metadata": {
    "collapsed": false,
    "deletable": true,
    "editable": true
   },
   "outputs": [],
   "source": [
    "#Load cloudmlmagic extention\n",
    "%load_ext cloudmlmagic"
   ]
  },
  {
   "cell_type": "code",
   "execution_count": null,
   "metadata": {
    "collapsed": false,
    "deletable": true,
    "editable": true
   },
   "outputs": [],
   "source": [
    "# Initialize Cloud ML Engine client library\n",
    "# Make sure you call this magic before adding code or run\n",
    "\n",
    "%ml_init -projectId PROJECTID -bucket BUCKET -scaleTier BASIC"
   ]
  },
  {
   "cell_type": "code",
   "execution_count": null,
   "metadata": {
    "collapsed": false
   },
   "outputs": [],
   "source": [
    "# This code block won't be uploaded.\n",
    "# Use this as preprocessing or diagnostic etc..\n",
    "\n",
    "print('This is..')\n",
    "print('only for...')\n",
    "print('local execution!')\n",
    "meaning_of_life = 42  # <- this variable is visible only on local\n"
   ]
  },
  {
   "cell_type": "code",
   "execution_count": null,
   "metadata": {
    "collapsed": false,
    "deletable": true,
    "editable": true
   },
   "outputs": [],
   "source": [
    "%%ml_code\n",
    "# ML Code to be uploaded.\n",
    "# Note that any variables/packages used outside of ml_code block\n",
    "# are not visible when running on cloud ml.\n",
    "\n",
    "import tensorflow as tf\n",
    "from sklearn import cross_validation\n",
    "import logging\n",
    "\n",
    "def run_training():\n",
    "    # Load iris dataset\n",
    "    iris = tf.contrib.learn.datasets.base.load_iris()\n",
    "    train_x, test_x, train_y, test_y = cross_validation.train_test_split(\n",
    "        iris.data, iris.target, test_size=0.2\n",
    "    )\n",
    "\n",
    "    \n",
    "    feature_columns = [tf.contrib.layers.real_valued_column(\"\", dimension=4)]\n",
    "    classifier = tf.contrib.learn.DNNClassifier(feature_columns=feature_columns,\n",
    "                                                hidden_units=[10, 20, 10],\n",
    "                                                n_classes=3,\n",
    "                                                model_dir=\"./model\")\n",
    "\n",
    "    classifier.fit(x=train_x,\n",
    "                   y=train_y,\n",
    "                   steps=2000,\n",
    "                   batch_size=50)"
   ]
  },
  {
   "cell_type": "code",
   "execution_count": null,
   "metadata": {
    "collapsed": false,
    "deletable": true,
    "editable": true
   },
   "outputs": [],
   "source": [
    "%%ml_code\n",
    "# You can devide code blocks like this.\n",
    "\n",
    "a = 42  # <- this variable is visible when executing job on cloud ml\n"
   ]
  },
  {
   "cell_type": "code",
   "execution_count": null,
   "metadata": {
    "collapsed": false,
    "deletable": true,
    "editable": true
   },
   "outputs": [],
   "source": [
    "%%ml_run cloud\n",
    "# Run a training job.\n",
    "# Code in this block is also uploaded.\n",
    "# To see your cloud ml engine job, go to https://console.cloud.google.com/mlengine/jobs\n",
    "\n",
    "run_training()\n"
   ]
  }
 ],
 "metadata": {
  "kernelspec": {
   "display_name": "Python 2",
   "language": "python",
   "name": "python2"
  },
  "language_info": {
   "codemirror_mode": {
    "name": "ipython",
    "version": 2
   },
   "file_extension": ".py",
   "mimetype": "text/x-python",
   "name": "python",
   "nbconvert_exporter": "python",
   "pygments_lexer": "ipython2",
   "version": "2.7.10"
  }
 },
 "nbformat": 4,
 "nbformat_minor": 0
}
