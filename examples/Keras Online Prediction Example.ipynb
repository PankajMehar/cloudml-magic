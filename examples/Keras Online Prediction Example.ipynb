{
 "cells": [
  {
   "cell_type": "markdown",
   "metadata": {},
   "source": [
    "# How to train Keras model and serve on Online Predicition\n",
    "Example notebook to use cloudmlmagic.\n",
    "Before you begin, install cloudmlmagic.\n",
    "```\n",
    "$ pip install cloudmlmagic\n",
    "```"
   ]
  },
  {
   "cell_type": "code",
   "execution_count": null,
   "metadata": {
    "collapsed": true
   },
   "outputs": [],
   "source": [
    "#Load cloudmlmagic extention\n",
    "%load_ext cloudmlmagic"
   ]
  },
  {
   "cell_type": "code",
   "execution_count": null,
   "metadata": {
    "collapsed": true
   },
   "outputs": [],
   "source": [
    "# Initialize Cloud ML Engine client library\n",
    "# Make sure you call this magic before adding code or run\n",
    "# Do NOT forget to add runtimeVersion as you use Keras\n",
    "\n",
    "%ml_init -projectId PROJECTID -bucket BUCKET -scaleTier BASIC -runtimeVersion 1.2"
   ]
  },
  {
   "cell_type": "code",
   "execution_count": null,
   "metadata": {
    "collapsed": true
   },
   "outputs": [],
   "source": [
    "%%ml_code\n",
    "\n",
    "import tensorflow as tf\n",
    "from tensorflow.contrib.keras.python import keras\n",
    "from tensorflow.contrib.keras.python.keras.models import Sequential\n",
    "from tensorflow.contrib.keras.python.keras.layers.core import Dense, Activation\n",
    "from sklearn.cross_validation import train_test_split\n",
    "\n",
    "iris = tf.contrib.learn.datasets.base.load_iris()\n",
    "train_x, test_x, train_y, test_y = train_test_split(\n",
    "    iris.data, iris.target, test_size=0.2)\n",
    "\n",
    "num_classes = 3\n",
    "train_y = keras.utils.to_categorical(train_y, num_classes)\n",
    "test_y = keras.utils.to_categorical(test_y, num_classes)\n",
    "\n",
    "model = Sequential()\n",
    "model.add(Dense(10, activation='relu', input_shape=(4,)))\n",
    "model.add(Dense(20, activation='relu'))\n",
    "model.add(Dense(10, activation='relu'))\n",
    "model.add(Dense(3, activation='softmax'))\n",
    "\n",
    "model.compile(loss='categorical_crossentropy',\n",
    "              optimizer='sgd',\n",
    "              metrics=['accuracy'])\n",
    "\n",
    "cb = keras.callbacks.TensorBoard(\n",
    "    log_dir=\"gs://BUCKET/keras-mlengine\", histogram_freq=1)"
   ]
  },
  {
   "cell_type": "code",
   "execution_count": null,
   "metadata": {
    "collapsed": true
   },
   "outputs": [],
   "source": [
    "%%ml_run cloud\n",
    "\n",
    "# train\n",
    "model.fit(train_x, train_y,\n",
    "          batch_size=100,\n",
    "          epochs=20,\n",
    "          verbose=2,\n",
    "          callbacks=[cb],\n",
    "          validation_data=(test_x, test_y))\n",
    "\n",
    "# eval\n",
    "score = model.evaluate(test_x, test_y, verbose=0)\n",
    "pred = model.predict(test_x)\n",
    "\n",
    "# Add Signature to the model, so that ML Engine can feed features\n",
    "from tensorflow.contrib.keras import backend\n",
    "sess = backend.get_session()\n",
    "x = sess.graph.get_tensor_by_name('dense_1_input:0')\n",
    "y = sess.graph.get_tensor_by_name('ArgMax_1:0')\n",
    "inputs = {\"dense_1_input\": tf.saved_model.utils.build_tensor_info(x)}\n",
    "outputs = {\"ArgMax_1\": tf.saved_model.utils.build_tensor_info(y)}\n",
    "signature = tf.saved_model.signature_def_utils.build_signature_def(\n",
    "    inputs=inputs,\n",
    "    outputs=outputs,\n",
    "    method_name=tf.saved_model.signature_constants.PREDICT_METHOD_NAME\n",
    ")\n",
    "\n",
    "# save as SavedModel\n",
    "b = tf.saved_model.builder.SavedModelBuilder('gs://BUCKET/keras-mlengine/savedmodel')\n",
    "b.add_meta_graph_and_variables(sess,\n",
    "                               [tf.saved_model.tag_constants.SERVING],\n",
    "                               signature_def_map={'serving_default': signature})\n",
    "b.save()"
   ]
  },
  {
   "cell_type": "markdown",
   "metadata": {},
   "source": [
    "## Online Prediction\n",
    "Regsiter \"SavedModel\" you have created above to Cloud ML Engine.\n"
   ]
  },
  {
   "cell_type": "code",
   "execution_count": null,
   "metadata": {
    "collapsed": true
   },
   "outputs": [],
   "source": [
    "from oauth2client.client import GoogleCredentials\n",
    "from googleapiclient import discovery\n",
    "from googleapiclient import errors\n",
    "\n",
    "PROJECTID = 'PROJECTID'\n",
    "projectID = 'projects/{}'.format(PROJECTID)\n",
    "modelName = 'keras-iris'\n",
    "modelID = '{}/models/{}'.format(projectID, modelName)\n",
    "\n",
    "credentials = GoogleCredentials.get_application_default()\n",
    "ml = discovery.build('ml', 'v1', credentials=credentials)"
   ]
  },
  {
   "cell_type": "code",
   "execution_count": null,
   "metadata": {
    "collapsed": true
   },
   "outputs": [],
   "source": [
    "request_body = {'instances': [{'dense_1_input': [5.4,  3.9,  1.3,  0.4]},\n",
    "                              {'dense_1_input': [4.4,  3.2,  1.3,  0.2]},\n",
    "                              {'dense_1_input': [4.3,  3.,  1.1,  0.1]},\n",
    "                              {'dense_1_input': [5.,  3.5,  1.6,  0.6]},\n",
    "                              {'dense_1_input': [5.9,  3.,  4.2,  1.5]},\n",
    "                              {'dense_1_input': [7.7,  3.,  6.1,  2.3]},\n",
    "                              ]}\n",
    "\n",
    "request = ml.projects().predict(name=modelID, body=request_body)\n",
    "try:\n",
    "    response = request.execute()\n",
    "except errors.HttpError as err:\n",
    "    # Something went wrong with the HTTP transaction.\n",
    "    # To use logging, you need to 'import logging'.\n",
    "    print('There was an HTTP error during the request:')\n",
    "    print(err._get_reason())\n",
    "response"
   ]
  }
 ],
 "metadata": {
  "kernelspec": {
   "display_name": "Python 2",
   "language": "python",
   "name": "python2"
  },
  "language_info": {
   "codemirror_mode": {
    "name": "ipython",
    "version": 2
   },
   "file_extension": ".py",
   "mimetype": "text/x-python",
   "name": "python",
   "nbconvert_exporter": "python",
   "pygments_lexer": "ipython2",
   "version": "2.7.10"
  }
 },
 "nbformat": 4,
 "nbformat_minor": 2
}
