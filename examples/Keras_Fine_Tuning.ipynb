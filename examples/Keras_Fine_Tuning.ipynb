{
 "cells": [
  {
   "cell_type": "markdown",
   "metadata": {},
   "source": [
    "# Keras Fine Tuning on Cloud Machine Learning Engine\n",
    "This notebook shows how to create transfer learning model using Keras, and train on ML Engine then serve on ML Engine's Online Prediction.  \n",
    "\n",
    "Install cloudmlmagic ahead of running."
   ]
  },
  {
   "cell_type": "code",
   "execution_count": 2,
   "metadata": {
    "collapsed": false
   },
   "outputs": [],
   "source": [
    "# !pip install cloudmlmagic"
   ]
  },
  {
   "cell_type": "markdown",
   "metadata": {},
   "source": [
    "Load cloudmlmagic extension"
   ]
  },
  {
   "cell_type": "code",
   "execution_count": 3,
   "metadata": {
    "collapsed": false
   },
   "outputs": [],
   "source": [
    "%load_ext cloudmlmagic"
   ]
  },
  {
   "cell_type": "markdown",
   "metadata": {},
   "source": [
    "Initialize and setup ML Engine parameters.  \n",
    "<font color=\"red\">Change PROJECTID and BUCKET</font>  \n",
    "\n",
    "Following dict will be written in setup.py of your package,  \n",
    "so list up neccesary packages of your code."
   ]
  },
  {
   "cell_type": "code",
   "execution_count": 4,
   "metadata": {
    "collapsed": false
   },
   "outputs": [],
   "source": [
    "%ml_init -projectId PROJECTID -bucket BUCKET -scaleTier BASIC_GPU -region asia-east1 -runtimeVersion 1.2\n",
    "{'install_requires': ['keras', 'h5py', 'Pillow']}"
   ]
  },
  {
   "cell_type": "markdown",
   "metadata": {},
   "source": [
    "Load InceptionV3 model"
   ]
  },
  {
   "cell_type": "code",
   "execution_count": 5,
   "metadata": {
    "collapsed": false
   },
   "outputs": [
    {
     "name": "stderr",
     "output_type": "stream",
     "text": [
      "Using TensorFlow backend.\n"
     ]
    }
   ],
   "source": [
    "%%ml_code\n",
    "\n",
    "from keras.applications.inception_v3 import InceptionV3\n",
    "\n",
    "model = InceptionV3(weights='imagenet')"
   ]
  },
  {
   "cell_type": "markdown",
   "metadata": {},
   "source": [
    "Load dataset"
   ]
  },
  {
   "cell_type": "code",
   "execution_count": 6,
   "metadata": {
    "collapsed": false
   },
   "outputs": [],
   "source": [
    "%%ml_code\n",
    "\n",
    "from keras.preprocessing import image\n",
    "from keras.applications.inception_v3 import preprocess_input, decode_predictions\n",
    "from io import BytesIO\n",
    "import numpy as np\n",
    "import pandas as pd\n",
    "import requests\n",
    "\n",
    "url = 'https://github.com/hayatoy/deep-learning-datasets/releases/download/v0.1/tl_opera_capitol.npz'\n",
    "response = requests.get(url)\n",
    "dataset = np.load(BytesIO(response.content))\n",
    "\n",
    "X_dataset = dataset['features']\n",
    "y_dataset = dataset['labels']"
   ]
  },
  {
   "cell_type": "markdown",
   "metadata": {},
   "source": [
    "Split dataset for train and test"
   ]
  },
  {
   "cell_type": "code",
   "execution_count": 7,
   "metadata": {
    "collapsed": false
   },
   "outputs": [],
   "source": [
    "%%ml_code\n",
    "\n",
    "from keras.utils import np_utils\n",
    "from sklearn.model_selection import train_test_split\n",
    "\n",
    "X_dataset = preprocess_input(X_dataset)\n",
    "y_dataset = np_utils.to_categorical(y_dataset)\n",
    "X_train, X_test, y_train, y_test = train_test_split(\n",
    "    X_dataset, y_dataset, test_size=0.2, random_state=42)"
   ]
  },
  {
   "cell_type": "markdown",
   "metadata": {},
   "source": [
    "The code cell above won't be included in the package being deployed on ML Engine.  \n",
    "Just to clarify that normal InceptionV3 model cannot predict correctly with the Opera/Capitol dataset."
   ]
  },
  {
   "cell_type": "code",
   "execution_count": 8,
   "metadata": {
    "collapsed": false
   },
   "outputs": [
    {
     "name": "stdout",
     "output_type": "stream",
     "text": [
      "Predicted:\n",
      "Score 0.110657587647, Label wreck\n",
      "Score 0.0671983659267, Label lakeside\n",
      "Score 0.0309968702495, Label seashore\n",
      "Score 0.0249739717692, Label breakwater\n",
      "Score 0.0229569561779, Label fountain\n"
     ]
    }
   ],
   "source": [
    "x = X_dataset[0]\n",
    "x = np.expand_dims(x, axis=0)\n",
    "\n",
    "preds = model.predict(x)\n",
    "print('Predicted:')\n",
    "for p in decode_predictions(preds, top=5)[0]:\n",
    "    print(\"Score {}, Label {}\".format(p[2], p[1]))"
   ]
  },
  {
   "cell_type": "markdown",
   "metadata": {},
   "source": [
    "Visualize last layers of InceptionV3"
   ]
  },
  {
   "cell_type": "code",
   "execution_count": 9,
   "metadata": {
    "collapsed": false
   },
   "outputs": [
    {
     "data": {
      "text/html": [
       "<div>\n",
       "<table border=\"1\" class=\"dataframe\">\n",
       "  <thead>\n",
       "    <tr style=\"text-align: right;\">\n",
       "      <th></th>\n",
       "      <th>0</th>\n",
       "    </tr>\n",
       "  </thead>\n",
       "  <tbody>\n",
       "    <tr>\n",
       "      <th>308</th>\n",
       "      <td>&lt;keras.layers.merge.Concatenate object at 0x7f...</td>\n",
       "    </tr>\n",
       "    <tr>\n",
       "      <th>309</th>\n",
       "      <td>&lt;keras.layers.core.Activation object at 0x7fb7...</td>\n",
       "    </tr>\n",
       "    <tr>\n",
       "      <th>310</th>\n",
       "      <td>&lt;keras.layers.merge.Concatenate object at 0x7f...</td>\n",
       "    </tr>\n",
       "    <tr>\n",
       "      <th>311</th>\n",
       "      <td>&lt;keras.layers.pooling.GlobalAveragePooling2D o...</td>\n",
       "    </tr>\n",
       "    <tr>\n",
       "      <th>312</th>\n",
       "      <td>&lt;keras.layers.core.Dense object at 0x7fb7a1a5b...</td>\n",
       "    </tr>\n",
       "  </tbody>\n",
       "</table>\n",
       "</div>"
      ],
      "text/plain": [
       "                                                     0\n",
       "308  <keras.layers.merge.Concatenate object at 0x7f...\n",
       "309  <keras.layers.core.Activation object at 0x7fb7...\n",
       "310  <keras.layers.merge.Concatenate object at 0x7f...\n",
       "311  <keras.layers.pooling.GlobalAveragePooling2D o...\n",
       "312  <keras.layers.core.Dense object at 0x7fb7a1a5b..."
      ]
     },
     "execution_count": 9,
     "metadata": {},
     "output_type": "execute_result"
    }
   ],
   "source": [
    "pd.DataFrame(model.layers).tail()"
   ]
  },
  {
   "cell_type": "code",
   "execution_count": 10,
   "metadata": {
    "collapsed": false
   },
   "outputs": [],
   "source": [
    "%ml_code\n",
    "\n",
    "from keras.models import Model\n",
    "\n",
    "# Intermediate layer\n",
    "intermediate_layer_model = Model(inputs=model.input, outputs=model.layers[311].output)"
   ]
  },
  {
   "cell_type": "markdown",
   "metadata": {},
   "source": [
    "Extract intermediate features"
   ]
  },
  {
   "cell_type": "code",
   "execution_count": 11,
   "metadata": {
    "collapsed": false
   },
   "outputs": [
    {
     "data": {
      "text/plain": [
       "<matplotlib.axes._subplots.AxesSubplot at 0x7fb7a1474cd0>"
      ]
     },
     "execution_count": 11,
     "metadata": {},
     "output_type": "execute_result"
    },
    {
     "data": {
      "image/png": "[encoded data removed]",
      "text/plain": [
       "<matplotlib.figure.Figure at 0x7fb7a14746d0>"
      ]
     },
     "metadata": {},
     "output_type": "display_data"
    }
   ],
   "source": [
    "x = np.expand_dims(X_dataset[0], axis=0)\n",
    "feature = intermediate_layer_model.predict(x)\n",
    "pd.DataFrame(feature.reshape(-1,1)).plot(figsize=(12, 3))"
   ]
  },
  {
   "cell_type": "markdown",
   "metadata": {},
   "source": [
    "Append dense layer at the last"
   ]
  },
  {
   "cell_type": "code",
   "execution_count": 12,
   "metadata": {
    "collapsed": false
   },
   "outputs": [
    {
     "name": "stdout",
     "output_type": "stream",
     "text": [
      "                                                     0\n",
      "309  <keras.layers.core.Activation object at 0x7fb7...\n",
      "310  <keras.layers.merge.Concatenate object at 0x7f...\n",
      "311  <keras.layers.pooling.GlobalAveragePooling2D o...\n",
      "312  <keras.layers.core.Dense object at 0x7fb7a1216...\n",
      "313  <keras.layers.core.Dense object at 0x7fb7a1216...\n"
     ]
    }
   ],
   "source": [
    "%%ml_code\n",
    "\n",
    "from keras.layers import Dense\n",
    "\n",
    "# Append dense layer\n",
    "x = intermediate_layer_model.output\n",
    "x = Dense(1024, activation='relu')(x)\n",
    "predictions = Dense(2, activation='softmax')(x)\n",
    "\n",
    "# Transfer learning model, all layers are trainable at this moment\n",
    "transfer_model = Model(inputs=intermediate_layer_model.input, outputs=predictions)\n",
    "\n",
    "print(pd.DataFrame(transfer_model.layers).tail())\n",
    "\n",
    "# Freeze all layers\n",
    "for layer in transfer_model.layers:\n",
    "    layer.trainable = False\n",
    "\n",
    "# Unfreeze the last layers, so that only these layers are trainable.\n",
    "transfer_model.layers[312].trainable = True\n",
    "transfer_model.layers[313].trainable = True\n",
    "\n",
    "transfer_model.compile(loss='categorical_crossentropy',\n",
    "                       optimizer='adam',\n",
    "                       metrics=['accuracy'])"
   ]
  },
  {
   "cell_type": "code",
   "execution_count": null,
   "metadata": {
    "collapsed": false
   },
   "outputs": [],
   "source": [
    "%%ml_run cloud\n",
    "\n",
    "import tensorflow as tf\n",
    "from keras import backend as K\n",
    "\n",
    "transfer_model.fit(X_train, y_train, epochs=20,\n",
    "                   verbose=2,\n",
    "                   validation_data=(X_test, y_test))\n",
    "loss, acc = transfer_model.evaluate(X_test, y_test)\n",
    "print('Loss {}, Accuracy {}'.format(loss, acc))\n",
    "\n",
    "K.set_learning_phase(0)  # test\n",
    "sess = K.get_session()\n",
    "\n",
    "from tensorflow.python.framework import graph_util\n",
    "\n",
    "# Make GraphDef of Transfer Model\n",
    "g_trans = sess.graph\n",
    "g_trans_def = graph_util.convert_variables_to_constants(sess,\n",
    "                                                        g_trans.as_graph_def(),\n",
    "                                                        [transfer_model.output.name.replace(':0','')])\n",
    "\n",
    "# Image Converter Model\n",
    "with tf.Graph().as_default() as g_input:\n",
    "    input_b64 = tf.placeholder(shape=(1,), dtype=tf.string, name='input')\n",
    "    input_bytes = tf.decode_base64(input_b64[0])\n",
    "    image = tf.image.decode_image(input_bytes)\n",
    "    image_f = tf.image.convert_image_dtype(image, dtype=tf.float32)\n",
    "    input_image = tf.expand_dims(image_f, 0)\n",
    "    output = tf.identity(input_image, name='input_image')\n",
    "\n",
    "g_input_def = g_input.as_graph_def()\n",
    "\n",
    "\n",
    "\n",
    "with tf.Graph().as_default() as g_combined:\n",
    "    x = tf.placeholder(tf.string, name=\"input_b64\")\n",
    "\n",
    "    im, = tf.import_graph_def(g_input_def,\n",
    "                              input_map={'input:0': x},\n",
    "                              return_elements=[\"input_image:0\"])\n",
    "\n",
    "    pred, = tf.import_graph_def(g_trans_def,\n",
    "                                input_map={transfer_model.input.name: im,\n",
    "                                          'batch_normalization_1/keras_learning_phase:0': False},\n",
    "                                return_elements=[transfer_model.output.name])\n",
    "\n",
    "    with tf.Session() as sess2:\n",
    "        inputs = {\"inputs\": tf.saved_model.utils.build_tensor_info(x)}\n",
    "        outputs = {\"outputs\": tf.saved_model.utils.build_tensor_info(pred)}\n",
    "        signature = tf.saved_model.signature_def_utils.build_signature_def(\n",
    "            inputs=inputs,\n",
    "            outputs=outputs,\n",
    "            method_name=tf.saved_model.signature_constants.PREDICT_METHOD_NAME\n",
    "        )\n",
    "\n",
    "        # save as SavedModel\n",
    "        b = tf.saved_model.builder.SavedModelBuilder('gs://BUCKET/keras-mlengine/savedmodel')\n",
    "        b.add_meta_graph_and_variables(sess2,\n",
    "                                       [tf.saved_model.tag_constants.SERVING],\n",
    "                                       signature_def_map={'serving_default': signature})\n",
    "        b.save()"
   ]
  },
  {
   "cell_type": "code",
   "execution_count": null,
   "metadata": {
    "collapsed": false
   },
   "outputs": [],
   "source": [
    "# This cell is to prevent \"runAll\".\n",
    "# you must wait until ML Engine job finishes\n",
    "raise Exception('wait until ml engine job finishes..')"
   ]
  },
  {
   "cell_type": "markdown",
   "metadata": {},
   "source": [
    "Create Model and Version for Online Prediction"
   ]
  },
  {
   "cell_type": "code",
   "execution_count": 15,
   "metadata": {
    "collapsed": false
   },
   "outputs": [
    {
     "name": "stdout",
     "output_type": "stream",
     "text": [
      "Creating version (this might take a few minutes)......done.\n"
     ]
    }
   ],
   "source": [
    "# !gcloud ml-engine models create OperaCapitol\n",
    "!gcloud ml-engine versions create v1 --model OperaCapitol --runtime-version 1.2 --origin gs://BUCKET/keras-mlengine/savedmodel"
   ]
  },
  {
   "cell_type": "code",
   "execution_count": 16,
   "metadata": {
    "collapsed": false
   },
   "outputs": [],
   "source": [
    "from oauth2client.client import GoogleCredentials\n",
    "from googleapiclient import discovery\n",
    "from googleapiclient import errors\n",
    "\n",
    "PROJECTID = 'PROJECTID'\n",
    "projectID = 'projects/{}'.format(PROJECTID)\n",
    "modelName = 'OperaCapitol'\n",
    "modelID = '{}/models/{}'.format(projectID, modelName)\n",
    "\n",
    "credentials = GoogleCredentials.get_application_default()\n",
    "ml = discovery.build('ml', 'v1', credentials=credentials)"
   ]
  },
  {
   "cell_type": "code",
   "execution_count": 17,
   "metadata": {
    "collapsed": false
   },
   "outputs": [
    {
     "data": {
      "text/plain": [
       "{u'predictions': [{u'outputs': [0.9974665641784668, 0.00253341649658978]}]}"
      ]
     },
     "execution_count": 17,
     "metadata": {},
     "output_type": "execute_result"
    }
   ],
   "source": [
    "with open('opera.jpg', 'rb') as f:\n",
    "    b64_x = f.read()\n",
    "import base64\n",
    "import json\n",
    "\n",
    "b64_x = base64.urlsafe_b64encode(b64_x)\n",
    "input_instance = dict(inputs=b64_x)\n",
    "input_instance = json.loads(json.dumps(input_instance))\n",
    "request_body = {\"instances\": [input_instance]}\n",
    "\n",
    "request = ml.projects().predict(name=modelID, body=request_body)\n",
    "try:\n",
    "    response = request.execute()\n",
    "except errors.HttpError as err:\n",
    "    # Something went wrong with the HTTP transaction.\n",
    "    # To use logging, you need to 'import logging'.\n",
    "    print('There was an HTTP error during the request:')\n",
    "    print(err._get_reason())\n",
    "response"
   ]
  }
 ],
 "metadata": {
  "kernelspec": {
   "display_name": "Python 2",
   "language": "python",
   "name": "python2"
  },
  "language_info": {
   "codemirror_mode": {
    "name": "ipython",
    "version": 2
   },
   "file_extension": ".py",
   "mimetype": "text/x-python",
   "name": "python",
   "nbconvert_exporter": "python",
   "pygments_lexer": "ipython2",
   "version": "2.7.12"
  }
 },
 "nbformat": 4,
 "nbformat_minor": 2
}
